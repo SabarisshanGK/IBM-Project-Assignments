{
 "cells": [
  {
   "cell_type": "markdown",
   "id": "09ed4168",
   "metadata": {},
   "source": [
    "# importing necessary libraries\n",
    "\n",
    "import pandas as pd\n",
    "import numpy as np"
   ]
  },
  {
   "cell_type": "code",
   "execution_count": 2,
   "id": "9c90c525",
   "metadata": {},
   "outputs": [],
   "source": [
    "import pandas as pd\n",
    "import numpy as np"
   ]
  },
  {
   "cell_type": "markdown",
   "id": "0d3a3882",
   "metadata": {},
   "source": [
    "# BASIC PYTHON"
   ]
  },
  {
   "cell_type": "markdown",
   "id": "83ec3686",
   "metadata": {},
   "source": [
    "## 1.Split string"
   ]
  },
  {
   "cell_type": "code",
   "execution_count": 4,
   "id": "f3771433",
   "metadata": {},
   "outputs": [
    {
     "data": {
      "text/plain": [
       "['Hey!', 'I', 'am', 'Sabarisshan', 'G', 'K']"
      ]
     },
     "execution_count": 4,
     "metadata": {},
     "output_type": "execute_result"
    }
   ],
   "source": [
    "name=\"Hey! I am Sabarisshan G K\"\n",
    "s=name.split()\n",
    "s"
   ]
  },
  {
   "cell_type": "markdown",
   "id": "189e08ce",
   "metadata": {},
   "source": [
    "## 2.Formated String"
   ]
  },
  {
   "cell_type": "code",
   "execution_count": 5,
   "id": "9af7ffaf",
   "metadata": {},
   "outputs": [
    {
     "name": "stdout",
     "output_type": "stream",
     "text": [
      "Hi I am Sabarisshan G K from CSE department.\n"
     ]
    }
   ],
   "source": [
    "#We can format string by using .format() method \n",
    "\n",
    "name = \"Sabarisshan G K\"\n",
    "department= \"CSE\"\n",
    "print(\"Hi I am {name} from {department} department.\".format(name=name,department=department))"
   ]
  },
  {
   "cell_type": "markdown",
   "id": "0b384123",
   "metadata": {},
   "source": [
    "## 3. Extract hello from nested dictionary"
   ]
  },
  {
   "cell_type": "code",
   "execution_count": 6,
   "id": "48b684aa",
   "metadata": {},
   "outputs": [
    {
     "name": "stdout",
     "output_type": "stream",
     "text": [
      "hello\n"
     ]
    }
   ],
   "source": [
    "nested_dictionary = {\"k1\":[1,2,3,\n",
    "                   {\"tricky\":[\"oh\",\"man\",\"inception\",\n",
    "                              {\"target\":[1,2,3,\"hello\"]\n",
    "                              }]}]\n",
    "            }\n",
    "\n",
    "print(nested_dictionary[\"k1\"][3][\"tricky\"][3][\"target\"][3])"
   ]
  },
  {
   "cell_type": "markdown",
   "id": "569adb08",
   "metadata": {},
   "source": [
    "# NUMPY"
   ]
  },
  {
   "cell_type": "markdown",
   "id": "4245c8c0",
   "metadata": {},
   "source": [
    "# # 4.Create an array of zeros"
   ]
  },
  {
   "cell_type": "code",
   "execution_count": 7,
   "id": "8e50e0fd",
   "metadata": {},
   "outputs": [
    {
     "data": {
      "text/plain": [
       "array([0., 0., 0., 0., 0.])"
      ]
     },
     "execution_count": 7,
     "metadata": {},
     "output_type": "execute_result"
    }
   ],
   "source": [
    "ar=np.zeros(5)\n",
    "ar"
   ]
  },
  {
   "cell_type": "markdown",
   "id": "01488d7a",
   "metadata": {},
   "source": [
    "## 5.Numpy array of all even integers from 10 to 60"
   ]
  },
  {
   "cell_type": "code",
   "execution_count": 9,
   "id": "057b0abc",
   "metadata": {},
   "outputs": [
    {
     "data": {
      "text/plain": [
       "array([10, 12, 14, 16, 18, 20, 22, 24, 26, 28, 30, 32, 34, 36, 38, 40, 42,\n",
       "       44, 46, 48, 50, 52, 54, 56, 58, 60])"
      ]
     },
     "execution_count": 9,
     "metadata": {},
     "output_type": "execute_result"
    }
   ],
   "source": [
    "arr=np.arange(10,61,2)\n",
    "arr"
   ]
  },
  {
   "cell_type": "markdown",
   "id": "375a9e98",
   "metadata": {},
   "source": [
    "## 6. Create a 3x3 matrix"
   ]
  },
  {
   "cell_type": "code",
   "execution_count": 14,
   "id": "9ff8e335",
   "metadata": {},
   "outputs": [
    {
     "data": {
      "text/plain": [
       "array([[1, 2, 3],\n",
       "       [4, 5, 6],\n",
       "       [7, 8, 9]])"
      ]
     },
     "execution_count": 14,
     "metadata": {},
     "output_type": "execute_result"
    }
   ],
   "source": [
    "matrix= np.arange(1,10).reshape(3,3)\n",
    "matrix"
   ]
  },
  {
   "cell_type": "markdown",
   "id": "fe44e239",
   "metadata": {},
   "source": [
    "## 7. Concatenate two arrays"
   ]
  },
  {
   "cell_type": "code",
   "execution_count": 15,
   "id": "1313bd8c",
   "metadata": {},
   "outputs": [
    {
     "data": {
      "text/plain": [
       "array([1, 2, 3, 4, 5, 6])"
      ]
     },
     "execution_count": 15,
     "metadata": {},
     "output_type": "execute_result"
    }
   ],
   "source": [
    "arr1=np.array([1,2,3])\n",
    "arr2=np.array([4,5,6])\n",
    "merge=np.concatenate((arr1,arr2),axis=None)\n",
    "merge"
   ]
  },
  {
   "cell_type": "markdown",
   "id": "650ee59d",
   "metadata": {},
   "source": [
    "## 8.Create a dataframe with 3 rows and 2 columns"
   ]
  },
  {
   "cell_type": "code",
   "execution_count": 18,
   "id": "2cff3cd8",
   "metadata": {},
   "outputs": [
    {
     "data": {
      "text/html": [
       "<div>\n",
       "<style scoped>\n",
       "    .dataframe tbody tr th:only-of-type {\n",
       "        vertical-align: middle;\n",
       "    }\n",
       "\n",
       "    .dataframe tbody tr th {\n",
       "        vertical-align: top;\n",
       "    }\n",
       "\n",
       "    .dataframe thead th {\n",
       "        text-align: right;\n",
       "    }\n",
       "</style>\n",
       "<table border=\"1\" class=\"dataframe\">\n",
       "  <thead>\n",
       "    <tr style=\"text-align: right;\">\n",
       "      <th></th>\n",
       "      <th>column 1</th>\n",
       "      <th>column 2</th>\n",
       "    </tr>\n",
       "  </thead>\n",
       "  <tbody>\n",
       "    <tr>\n",
       "      <th>0</th>\n",
       "      <td>6</td>\n",
       "      <td>6</td>\n",
       "    </tr>\n",
       "    <tr>\n",
       "      <th>1</th>\n",
       "      <td>6</td>\n",
       "      <td>4</td>\n",
       "    </tr>\n",
       "    <tr>\n",
       "      <th>2</th>\n",
       "      <td>9</td>\n",
       "      <td>6</td>\n",
       "    </tr>\n",
       "  </tbody>\n",
       "</table>\n",
       "</div>"
      ],
      "text/plain": [
       "   column 1  column 2\n",
       "0         6         6\n",
       "1         6         4\n",
       "2         9         6"
      ]
     },
     "execution_count": 18,
     "metadata": {},
     "output_type": "execute_result"
    }
   ],
   "source": [
    "rand_num=np.random.randint(10,size=(3,2))\n",
    "df=pd.DataFrame(rand_num,columns=[\"column 1\", \"column 2\"])\n",
    "df"
   ]
  },
  {
   "cell_type": "code",
   "execution_count": 3,
   "id": "7040bd48",
   "metadata": {},
   "outputs": [
    {
     "data": {
      "text/html": [
       "<div>\n",
       "<style scoped>\n",
       "    .dataframe tbody tr th:only-of-type {\n",
       "        vertical-align: middle;\n",
       "    }\n",
       "\n",
       "    .dataframe tbody tr th {\n",
       "        vertical-align: top;\n",
       "    }\n",
       "\n",
       "    .dataframe thead th {\n",
       "        text-align: right;\n",
       "    }\n",
       "</style>\n",
       "<table border=\"1\" class=\"dataframe\">\n",
       "  <thead>\n",
       "    <tr style=\"text-align: right;\">\n",
       "      <th></th>\n",
       "      <th>col_1</th>\n",
       "      <th>col_2</th>\n",
       "    </tr>\n",
       "  </thead>\n",
       "  <tbody>\n",
       "    <tr>\n",
       "      <th>0</th>\n",
       "      <td>1</td>\n",
       "      <td>2</td>\n",
       "    </tr>\n",
       "    <tr>\n",
       "      <th>1</th>\n",
       "      <td>2</td>\n",
       "      <td>5</td>\n",
       "    </tr>\n",
       "    <tr>\n",
       "      <th>2</th>\n",
       "      <td>3</td>\n",
       "      <td>6</td>\n",
       "    </tr>\n",
       "  </tbody>\n",
       "</table>\n",
       "</div>"
      ],
      "text/plain": [
       "   col_1  col_2\n",
       "0      1      2\n",
       "1      2      5\n",
       "2      3      6"
      ]
     },
     "execution_count": 3,
     "metadata": {},
     "output_type": "execute_result"
    }
   ],
   "source": [
    "pd_dict = {\n",
    "    \"col_1\":[1,2,3],\n",
    "    \"col_2\":[2,5,6]\n",
    "          }\n",
    "# Create dataframe by dictionary\n",
    "df1 = pd.DataFrame(pd_dict)\n",
    "df1"
   ]
  },
  {
   "cell_type": "code",
   "execution_count": 5,
   "id": "e05545db",
   "metadata": {},
   "outputs": [
    {
     "data": {
      "text/html": [
       "<div>\n",
       "<style scoped>\n",
       "    .dataframe tbody tr th:only-of-type {\n",
       "        vertical-align: middle;\n",
       "    }\n",
       "\n",
       "    .dataframe tbody tr th {\n",
       "        vertical-align: top;\n",
       "    }\n",
       "\n",
       "    .dataframe thead th {\n",
       "        text-align: right;\n",
       "    }\n",
       "</style>\n",
       "<table border=\"1\" class=\"dataframe\">\n",
       "  <thead>\n",
       "    <tr style=\"text-align: right;\">\n",
       "      <th></th>\n",
       "      <th>Name</th>\n",
       "      <th>Age</th>\n",
       "    </tr>\n",
       "  </thead>\n",
       "  <tbody>\n",
       "    <tr>\n",
       "      <th>0</th>\n",
       "      <td>Sachin Tendulkar</td>\n",
       "      <td>20</td>\n",
       "    </tr>\n",
       "    <tr>\n",
       "      <th>1</th>\n",
       "      <td>Dwyane Johnson</td>\n",
       "      <td>20</td>\n",
       "    </tr>\n",
       "    <tr>\n",
       "      <th>2</th>\n",
       "      <td>Jason Stathom</td>\n",
       "      <td>20</td>\n",
       "    </tr>\n",
       "    <tr>\n",
       "      <th>3</th>\n",
       "      <td>Tom Halland</td>\n",
       "      <td>19</td>\n",
       "    </tr>\n",
       "  </tbody>\n",
       "</table>\n",
       "</div>"
      ],
      "text/plain": [
       "               Name  Age\n",
       "0  Sachin Tendulkar   20\n",
       "1    Dwyane Johnson   20\n",
       "2     Jason Stathom   20\n",
       "3       Tom Halland   19"
      ]
     },
     "execution_count": 5,
     "metadata": {},
     "output_type": "execute_result"
    }
   ],
   "source": [
    "# Add dataframe by list \n",
    "name_list = [\"Sachin Tendulkar\",20],[\"Dwyane Johnson\",20],[\"Jason Stathom\",20],[\"Tom Halland\",19]\n",
    "df2 = pd.DataFrame(name_list,columns=[\"Name\",\"Age\"])\n",
    "df2"
   ]
  },
  {
   "cell_type": "markdown",
   "id": "fb04ec9f",
   "metadata": {},
   "source": [
    "## 9.Generate series of date from 1st jan 2023 - 10 th feb 2023"
   ]
  },
  {
   "cell_type": "code",
   "execution_count": 8,
   "id": "cbba1e87",
   "metadata": {},
   "outputs": [],
   "source": [
    "# dataframe Generator \n",
    "dfg = pd.DataFrame()\n",
    "\n",
    "dfg[\"time\"] = pd.date_range(start =\"1/1/2023\",end =\"2/10/2023\",freq =\"24H\")\n",
    "\n",
    "dfg[\"year\"] =dfg[\"time\"].dt.year\n",
    "dfg[\"month\"] = dfg[\"time\"].dt.month\n",
    "dfg[\"day\"] = dfg[\"time\"].dt.day"
   ]
  },
  {
   "cell_type": "code",
   "execution_count": 9,
   "id": "d3249997",
   "metadata": {},
   "outputs": [
    {
     "data": {
      "text/html": [
       "<div>\n",
       "<style scoped>\n",
       "    .dataframe tbody tr th:only-of-type {\n",
       "        vertical-align: middle;\n",
       "    }\n",
       "\n",
       "    .dataframe tbody tr th {\n",
       "        vertical-align: top;\n",
       "    }\n",
       "\n",
       "    .dataframe thead th {\n",
       "        text-align: right;\n",
       "    }\n",
       "</style>\n",
       "<table border=\"1\" class=\"dataframe\">\n",
       "  <thead>\n",
       "    <tr style=\"text-align: right;\">\n",
       "      <th></th>\n",
       "      <th>time</th>\n",
       "      <th>year</th>\n",
       "      <th>month</th>\n",
       "      <th>day</th>\n",
       "    </tr>\n",
       "  </thead>\n",
       "  <tbody>\n",
       "    <tr>\n",
       "      <th>0</th>\n",
       "      <td>2023-01-01</td>\n",
       "      <td>2023</td>\n",
       "      <td>1</td>\n",
       "      <td>1</td>\n",
       "    </tr>\n",
       "    <tr>\n",
       "      <th>1</th>\n",
       "      <td>2023-01-02</td>\n",
       "      <td>2023</td>\n",
       "      <td>1</td>\n",
       "      <td>2</td>\n",
       "    </tr>\n",
       "    <tr>\n",
       "      <th>2</th>\n",
       "      <td>2023-01-03</td>\n",
       "      <td>2023</td>\n",
       "      <td>1</td>\n",
       "      <td>3</td>\n",
       "    </tr>\n",
       "    <tr>\n",
       "      <th>3</th>\n",
       "      <td>2023-01-04</td>\n",
       "      <td>2023</td>\n",
       "      <td>1</td>\n",
       "      <td>4</td>\n",
       "    </tr>\n",
       "    <tr>\n",
       "      <th>4</th>\n",
       "      <td>2023-01-05</td>\n",
       "      <td>2023</td>\n",
       "      <td>1</td>\n",
       "      <td>5</td>\n",
       "    </tr>\n",
       "  </tbody>\n",
       "</table>\n",
       "</div>"
      ],
      "text/plain": [
       "        time  year  month  day\n",
       "0 2023-01-01  2023      1    1\n",
       "1 2023-01-02  2023      1    2\n",
       "2 2023-01-03  2023      1    3\n",
       "3 2023-01-04  2023      1    4\n",
       "4 2023-01-05  2023      1    5"
      ]
     },
     "execution_count": 9,
     "metadata": {},
     "output_type": "execute_result"
    }
   ],
   "source": [
    "dfg.head()"
   ]
  },
  {
   "cell_type": "markdown",
   "id": "6cdd5a30",
   "metadata": {},
   "source": [
    "## 10. Create 2D list to dataframe"
   ]
  },
  {
   "cell_type": "code",
   "execution_count": 10,
   "id": "afcec209",
   "metadata": {},
   "outputs": [
    {
     "data": {
      "text/html": [
       "<div>\n",
       "<style scoped>\n",
       "    .dataframe tbody tr th:only-of-type {\n",
       "        vertical-align: middle;\n",
       "    }\n",
       "\n",
       "    .dataframe tbody tr th {\n",
       "        vertical-align: top;\n",
       "    }\n",
       "\n",
       "    .dataframe thead th {\n",
       "        text-align: right;\n",
       "    }\n",
       "</style>\n",
       "<table border=\"1\" class=\"dataframe\">\n",
       "  <thead>\n",
       "    <tr style=\"text-align: right;\">\n",
       "      <th></th>\n",
       "      <th>col1</th>\n",
       "      <th>col2</th>\n",
       "      <th>col3</th>\n",
       "    </tr>\n",
       "  </thead>\n",
       "  <tbody>\n",
       "    <tr>\n",
       "      <th>0</th>\n",
       "      <td>1</td>\n",
       "      <td>aaa</td>\n",
       "      <td>22</td>\n",
       "    </tr>\n",
       "    <tr>\n",
       "      <th>1</th>\n",
       "      <td>2</td>\n",
       "      <td>bbb</td>\n",
       "      <td>25</td>\n",
       "    </tr>\n",
       "    <tr>\n",
       "      <th>2</th>\n",
       "      <td>3</td>\n",
       "      <td>ccc</td>\n",
       "      <td>24</td>\n",
       "    </tr>\n",
       "  </tbody>\n",
       "</table>\n",
       "</div>"
      ],
      "text/plain": [
       "   col1 col2  col3\n",
       "0     1  aaa    22\n",
       "1     2  bbb    25\n",
       "2     3  ccc    24"
      ]
     },
     "execution_count": 10,
     "metadata": {},
     "output_type": "execute_result"
    }
   ],
   "source": [
    "list_2d = [[1,\"aaa\",22],[2,\"bbb\",25],[3,\"ccc\",24]]\n",
    "dl = pd.DataFrame(list_2d,columns=[\"col1\",\"col2\",\"col3\"])\n",
    "dl"
   ]
  }
 ],
 "metadata": {
  "kernelspec": {
   "display_name": "Python 3",
   "language": "python",
   "name": "python3"
  },
  "language_info": {
   "codemirror_mode": {
    "name": "ipython",
    "version": 3
   },
   "file_extension": ".py",
   "mimetype": "text/x-python",
   "name": "python",
   "nbconvert_exporter": "python",
   "pygments_lexer": "ipython3",
   "version": "3.8.8"
  }
 },
 "nbformat": 4,
 "nbformat_minor": 5
}
